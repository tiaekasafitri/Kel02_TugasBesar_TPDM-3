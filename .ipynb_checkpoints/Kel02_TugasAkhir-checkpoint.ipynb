{
 "cells": [
  {
   "cell_type": "code",
   "execution_count": 3,
   "id": "d598ae0c",
   "metadata": {},
   "outputs": [],
   "source": [
    "#menentukan library yang akan digunakan\n",
    "import numpy as np\n",
    "import pandas as pd\n",
    "from sklearn.model_selection import train_test_split\n",
    "from sklearn.naive_bayes import GaussianNB\n",
    "from sklearn.metrics import accuracy_score"
   ]
  },
  {
   "cell_type": "code",
   "execution_count": 4,
   "id": "b349236c",
   "metadata": {},
   "outputs": [],
   "source": [
    "#load dataset\n",
    "kel02_dataset_data = pd.read_csv('kel02_dataset.csv')"
   ]
  },
  {
   "cell_type": "code",
   "execution_count": 5,
   "id": "ec5ab546",
   "metadata": {},
   "outputs": [
    {
     "data": {
      "text/html": [
       "<div>\n",
       "<style scoped>\n",
       "    .dataframe tbody tr th:only-of-type {\n",
       "        vertical-align: middle;\n",
       "    }\n",
       "\n",
       "    .dataframe tbody tr th {\n",
       "        vertical-align: top;\n",
       "    }\n",
       "\n",
       "    .dataframe thead th {\n",
       "        text-align: right;\n",
       "    }\n",
       "</style>\n",
       "<table border=\"1\" class=\"dataframe\">\n",
       "  <thead>\n",
       "    <tr style=\"text-align: right;\">\n",
       "      <th></th>\n",
       "      <th>calories</th>\n",
       "      <th>cholesterol</th>\n",
       "      <th>sodium</th>\n",
       "      <th>carbohydrates</th>\n",
       "      <th>sugars</th>\n",
       "      <th>protein</th>\n",
       "      <th>vitamin</th>\n",
       "      <th>calcium</th>\n",
       "      <th>fat</th>\n",
       "      <th>iron</th>\n",
       "      <th>fiber</th>\n",
       "      <th>potassium</th>\n",
       "      <th>minerals</th>\n",
       "      <th>condition</th>\n",
       "    </tr>\n",
       "  </thead>\n",
       "  <tbody>\n",
       "    <tr>\n",
       "      <th>0</th>\n",
       "      <td>300</td>\n",
       "      <td>13.0</td>\n",
       "      <td>5.0</td>\n",
       "      <td>0.0</td>\n",
       "      <td>260</td>\n",
       "      <td>750</td>\n",
       "      <td>31</td>\n",
       "      <td>4</td>\n",
       "      <td>3</td>\n",
       "      <td>17</td>\n",
       "      <td>10</td>\n",
       "      <td>25</td>\n",
       "      <td>15</td>\n",
       "      <td>0</td>\n",
       "    </tr>\n",
       "    <tr>\n",
       "      <th>1</th>\n",
       "      <td>250</td>\n",
       "      <td>8.0</td>\n",
       "      <td>3.0</td>\n",
       "      <td>0.0</td>\n",
       "      <td>25</td>\n",
       "      <td>770</td>\n",
       "      <td>30</td>\n",
       "      <td>4</td>\n",
       "      <td>3</td>\n",
       "      <td>18</td>\n",
       "      <td>6</td>\n",
       "      <td>25</td>\n",
       "      <td>8</td>\n",
       "      <td>0</td>\n",
       "    </tr>\n",
       "    <tr>\n",
       "      <th>2</th>\n",
       "      <td>370</td>\n",
       "      <td>23.0</td>\n",
       "      <td>8.0</td>\n",
       "      <td>0.0</td>\n",
       "      <td>45</td>\n",
       "      <td>780</td>\n",
       "      <td>29</td>\n",
       "      <td>4</td>\n",
       "      <td>2</td>\n",
       "      <td>14</td>\n",
       "      <td>8</td>\n",
       "      <td>25</td>\n",
       "      <td>10</td>\n",
       "      <td>0</td>\n",
       "    </tr>\n",
       "    <tr>\n",
       "      <th>3</th>\n",
       "      <td>450</td>\n",
       "      <td>28.0</td>\n",
       "      <td>10.0</td>\n",
       "      <td>0.0</td>\n",
       "      <td>285</td>\n",
       "      <td>860</td>\n",
       "      <td>30</td>\n",
       "      <td>4</td>\n",
       "      <td>2</td>\n",
       "      <td>21</td>\n",
       "      <td>15</td>\n",
       "      <td>30</td>\n",
       "      <td>15</td>\n",
       "      <td>1</td>\n",
       "    </tr>\n",
       "    <tr>\n",
       "      <th>4</th>\n",
       "      <td>400</td>\n",
       "      <td>23.0</td>\n",
       "      <td>8.0</td>\n",
       "      <td>0.0</td>\n",
       "      <td>50</td>\n",
       "      <td>880</td>\n",
       "      <td>30</td>\n",
       "      <td>4</td>\n",
       "      <td>2</td>\n",
       "      <td>21</td>\n",
       "      <td>6</td>\n",
       "      <td>25</td>\n",
       "      <td>10</td>\n",
       "      <td>0</td>\n",
       "    </tr>\n",
       "  </tbody>\n",
       "</table>\n",
       "</div>"
      ],
      "text/plain": [
       "   calories  cholesterol  sodium  carbohydrates  sugars  protein  vitamin  \\\n",
       "0       300         13.0     5.0            0.0     260      750       31   \n",
       "1       250          8.0     3.0            0.0      25      770       30   \n",
       "2       370         23.0     8.0            0.0      45      780       29   \n",
       "3       450         28.0    10.0            0.0     285      860       30   \n",
       "4       400         23.0     8.0            0.0      50      880       30   \n",
       "\n",
       "   calcium  fat  iron  fiber  potassium  minerals  condition  \n",
       "0        4    3    17     10         25        15          0  \n",
       "1        4    3    18      6         25         8          0  \n",
       "2        4    2    14      8         25        10          0  \n",
       "3        4    2    21     15         30        15          1  \n",
       "4        4    2    21      6         25        10          0  "
      ]
     },
     "execution_count": 5,
     "metadata": {},
     "output_type": "execute_result"
    }
   ],
   "source": [
    "kel02_dataset_data.head()"
   ]
  },
  {
   "cell_type": "code",
   "execution_count": 6,
   "id": "434760ff",
   "metadata": {},
   "outputs": [],
   "source": [
    "#memisahkan data atribut dengan label\n",
    "X = kel02_dataset_data.drop(['condition'], axis=1)\n",
    "Y = kel02_dataset_data['condition']"
   ]
  },
  {
   "cell_type": "code",
   "execution_count": 7,
   "id": "390b5546",
   "metadata": {},
   "outputs": [
    {
     "name": "stdout",
     "output_type": "stream",
     "text": [
      "     calories  cholesterol  sodium  carbohydrates  sugars  protein  vitamin  \\\n",
      "0         300         13.0     5.0            0.0     260      750       31   \n",
      "1         250          8.0     3.0            0.0      25      770       30   \n",
      "2         370         23.0     8.0            0.0      45      780       29   \n",
      "3         450         28.0    10.0            0.0     285      860       30   \n",
      "4         400         23.0     8.0            0.0      50      880       30   \n",
      "..        ...          ...     ...            ...     ...      ...      ...   \n",
      "495       120          0.0     0.0           32.0       1        1       34   \n",
      "496       160          0.0     0.0           43.0       1        1       40   \n",
      "497       220          0.0     0.0           57.0       1        1       41   \n",
      "498       310          0.0     0.0           80.0       1        1       46   \n",
      "499       520         11.0    60.0           71.0       0       18        3   \n",
      "\n",
      "     calcium  fat  iron  fiber  potassium  minerals  \n",
      "0          4    3    17     10         25        15  \n",
      "1          4    3    18      6         25         8  \n",
      "2          4    2    14      8         25        10  \n",
      "3          4    2    21     15         30        15  \n",
      "4          4    2    21      6         25        10  \n",
      "..       ...  ...   ...    ...        ...       ...  \n",
      "495        2    3    18      0          8        15  \n",
      "496        3    3    18      4          8        15  \n",
      "497        2    3    17      0          6        15  \n",
      "498        3    4    17      4          8        15  \n",
      "499       12    9   170     30          6         0  \n",
      "\n",
      "[500 rows x 13 columns]\n"
     ]
    }
   ],
   "source": [
    "print(X)"
   ]
  },
  {
   "cell_type": "code",
   "execution_count": 8,
   "id": "55ded178",
   "metadata": {},
   "outputs": [
    {
     "name": "stdout",
     "output_type": "stream",
     "text": [
      "0      0\n",
      "1      0\n",
      "2      0\n",
      "3      1\n",
      "4      0\n",
      "      ..\n",
      "495    0\n",
      "496    0\n",
      "497    0\n",
      "498    0\n",
      "499    0\n",
      "Name: condition, Length: 500, dtype: int64\n"
     ]
    }
   ],
   "source": [
    "print(Y)"
   ]
  },
  {
   "cell_type": "code",
   "execution_count": 9,
   "id": "1e052cd0",
   "metadata": {},
   "outputs": [],
   "source": [
    "#memisahkan data training dan data testing\n",
    "X_train, X_test, Y_train, Y_test = train_test_split(X, Y, test_size=0.2, stratify=Y, random_state=2)"
   ]
  },
  {
   "cell_type": "code",
   "execution_count": 10,
   "id": "0ac97e21",
   "metadata": {},
   "outputs": [
    {
     "name": "stdout",
     "output_type": "stream",
     "text": [
      "(500, 13) (400, 13) (100, 13)\n"
     ]
    }
   ],
   "source": [
    "print(X.shape, X_train.shape, X_test.shape)"
   ]
  },
  {
   "cell_type": "code",
   "execution_count": 11,
   "id": "a5d33c91",
   "metadata": {},
   "outputs": [],
   "source": [
    "#membuat model training\n",
    "model = GaussianNB()"
   ]
  },
  {
   "cell_type": "code",
   "execution_count": 12,
   "id": "28781015",
   "metadata": {},
   "outputs": [
    {
     "data": {
      "text/plain": [
       "GaussianNB()"
      ]
     },
     "execution_count": 12,
     "metadata": {},
     "output_type": "execute_result"
    }
   ],
   "source": [
    "model.fit(X_train, Y_train)"
   ]
  },
  {
   "cell_type": "code",
   "execution_count": 13,
   "id": "5cd710ab",
   "metadata": {},
   "outputs": [],
   "source": [
    "X_train_prediction = model.predict(X_train)\n",
    "training_data_accuracy = accuracy_score(X_train_prediction, Y_train)"
   ]
  },
  {
   "cell_type": "code",
   "execution_count": 14,
   "id": "52e5fce3",
   "metadata": {},
   "outputs": [
    {
     "name": "stdout",
     "output_type": "stream",
     "text": [
      "akurasi data training : 0.6025\n"
     ]
    }
   ],
   "source": [
    "print('akurasi data training :', training_data_accuracy)"
   ]
  },
  {
   "cell_type": "code",
   "execution_count": 15,
   "id": "453cdc1b",
   "metadata": {},
   "outputs": [],
   "source": [
    "#melakukan evaluasi model\n",
    "X_test_prediction = model.predict(X_test)\n",
    "test_data_accuracy = accuracy_score(X_test_prediction, Y_test)"
   ]
  },
  {
   "cell_type": "code",
   "execution_count": 16,
   "id": "47030968",
   "metadata": {},
   "outputs": [
    {
     "name": "stdout",
     "output_type": "stream",
     "text": [
      "akurasi data testing : 0.61\n"
     ]
    }
   ],
   "source": [
    "print('akurasi data testing :', test_data_accuracy)"
   ]
  },
  {
   "cell_type": "code",
   "execution_count": 17,
   "id": "9b8a6afe",
   "metadata": {},
   "outputs": [
    {
     "name": "stdout",
     "output_type": "stream",
     "text": [
      "[0]\n",
      "Pasien Tidak Beresiko Terkena Penyakit Obesitas\n"
     ]
    },
    {
     "name": "stderr",
     "output_type": "stream",
     "text": [
      "C:\\Users\\Lenovo\\anaconda3\\lib\\site-packages\\sklearn\\base.py:450: UserWarning: X does not have valid feature names, but GaussianNB was fitted with feature names\n",
      "  warnings.warn(\n"
     ]
    }
   ],
   "source": [
    "#membuat model prediksi\n",
    "input_data = (250,8,3,0,25,770,30,4,3,18,6,25,8)\n",
    "\n",
    "input_data_as_numpy_array = np.asarray(input_data)\n",
    "\n",
    "input_data_reshaped = input_data_as_numpy_array.reshape(1, -1)\n",
    "\n",
    "prediction = model.predict(input_data_reshaped)\n",
    "print(prediction)\n",
    "\n",
    "if (prediction[0]==0):\n",
    "    print('Pasien Tidak Beresiko Terkena Penyakit Obesitas')\n",
    "else:\n",
    "    print('Pasien Resiko Terkena Penyakit Obesitas')"
   ]
  },
  {
   "cell_type": "code",
   "execution_count": 20,
   "id": "457d3b04",
   "metadata": {},
   "outputs": [
    {
     "name": "stdout",
     "output_type": "stream",
     "text": [
      "[1]\n",
      "Pasien Resiko Terkena Penyakit Obesitas\n"
     ]
    },
    {
     "name": "stderr",
     "output_type": "stream",
     "text": [
      "C:\\Users\\Lenovo\\anaconda3\\lib\\site-packages\\sklearn\\base.py:450: UserWarning: X does not have valid feature names, but GaussianNB was fitted with feature names\n",
      "  warnings.warn(\n"
     ]
    }
   ],
   "source": [
    "input_data = (300,13,5,0,260,750,31,4,3,17,10,25,15)\n",
    "\n",
    "input_data_as_numpy_array = np.asarray(input_data)\n",
    "\n",
    "input_data_reshaped = input_data_as_numpy_array.reshape(1, -1)\n",
    "\n",
    "prediction = model.predict(input_data_reshaped)\n",
    "print(prediction)\n",
    "\n",
    "if (prediction[0]==0):\n",
    "    print('Pasien Tidak Beresiko Terkena Penyakit Obesitas')\n",
    "else:\n",
    "    print('Pasien Resiko Terkena Penyakit Obesitas')"
   ]
  },
  {
   "cell_type": "code",
   "execution_count": 21,
   "id": "3c697665",
   "metadata": {},
   "outputs": [
    {
     "name": "stdout",
     "output_type": "stream",
     "text": [
      "              precision    recall  f1-score   support\n",
      "\n",
      "           0       0.60      0.61      0.61        49\n",
      "           1       0.62      0.61      0.61        51\n",
      "\n",
      "    accuracy                           0.61       100\n",
      "   macro avg       0.61      0.61      0.61       100\n",
      "weighted avg       0.61      0.61      0.61       100\n",
      "\n"
     ]
    }
   ],
   "source": [
    "from sklearn.metrics import classification_report\n",
    "print(classification_report(X_test_prediction, Y_test))"
   ]
  },
  {
   "cell_type": "code",
   "execution_count": 22,
   "id": "3809ae97",
   "metadata": {},
   "outputs": [],
   "source": [
    "#menyimpan model\n",
    "import pickle"
   ]
  },
  {
   "cell_type": "code",
   "execution_count": 23,
   "id": "6401ad58",
   "metadata": {},
   "outputs": [],
   "source": [
    "filename = 'resiko_obesitas.pkl'\n",
    "pickle.dump(model, open(filename, 'wb'))"
   ]
  },
  {
   "cell_type": "code",
   "execution_count": null,
   "id": "ba5b83ce",
   "metadata": {},
   "outputs": [],
   "source": []
  }
 ],
 "metadata": {
  "kernelspec": {
   "display_name": "Python 3 (ipykernel)",
   "language": "python",
   "name": "python3"
  },
  "language_info": {
   "codemirror_mode": {
    "name": "ipython",
    "version": 3
   },
   "file_extension": ".py",
   "mimetype": "text/x-python",
   "name": "python",
   "nbconvert_exporter": "python",
   "pygments_lexer": "ipython3",
   "version": "3.9.13"
  }
 },
 "nbformat": 4,
 "nbformat_minor": 5
}
